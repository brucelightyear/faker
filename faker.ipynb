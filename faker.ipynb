{
 "cells": [
  {
   "cell_type": "code",
   "execution_count": 1,
   "id": "cleared-mistake",
   "metadata": {},
   "outputs": [],
   "source": [
    "import numpy as np\n",
    "import pandas as pd\n",
    "import lux\n",
    "from faker import Faker\n",
    "fake = Faker(['fr-CA'])\n",
    "fake.locales\n",
    "from faker.providers.person.fr_CA import Provider"
   ]
  },
  {
   "cell_type": "code",
   "execution_count": 2,
   "id": "eastern-karma",
   "metadata": {},
   "outputs": [],
   "source": [
    "def random_names(name_type, size):\n",
    "    \"\"\"\n",
    "    Generate n-length ndarray of person names.\n",
    "    name_type: a string, either first_names or last_names\n",
    "    \"\"\"\n",
    "    names = getattr(Provider, name_type)\n",
    "    return np.random.choice(names, size=size)"
   ]
  },
  {
   "cell_type": "code",
   "execution_count": 3,
   "id": "adequate-zambia",
   "metadata": {},
   "outputs": [],
   "source": [
    "def random_genders(size, p=None):\n",
    "    \"\"\"Generate n-length ndarray of genders.\"\"\"\n",
    "    if not p:\n",
    "        # default probabilities\n",
    "        p = (0.49, 0.49, 0.01, 0.01)\n",
    "    gender = (\"M\", \"F\", \"O\", \"\")\n",
    "    return np.random.choice(gender, size=size, p=p)"
   ]
  },
  {
   "cell_type": "code",
   "execution_count": 4,
   "id": "activated-termination",
   "metadata": {},
   "outputs": [],
   "source": [
    "def random_dates(start, end, size):\n",
    "    \"\"\"\n",
    "    Generate random dates within range between start and end.    \n",
    "    Adapted from: https://stackoverflow.com/a/50668285\n",
    "    \"\"\"\n",
    "    # Unix timestamp is in nanoseconds by default, so divide it by\n",
    "    # 24*60*60*10**9 to convert to days.\n",
    "    divide_by = 24 * 60 * 60 * 10**9\n",
    "    start_u = start.value // divide_by\n",
    "    end_u = end.value // divide_by\n",
    "    return pd.to_datetime(np.random.randint(start_u, end_u, size), unit=\"D\")"
   ]
  },
  {
   "cell_type": "code",
   "execution_count": 5,
   "id": "criminal-earthquake",
   "metadata": {},
   "outputs": [],
   "source": [
    "def random_address(size):\n",
    "    \"\"\"\n",
    "    Generate n-length ndarray of address.\n",
    "    \"\"\"\n",
    "    fake = Faker('en_CA')\n",
    "    addressList = []\n",
    "    for _ in range(size):\n",
    "        address = fake.address().split(\", \")[0].replace('\\n', ', ')\n",
    "        addressList.append(address + \", QC \" + fake.postalcode_in_province(\"QC\"))\n",
    "    \n",
    "    return np.random.choice(addressList, size=size)"
   ]
  },
  {
   "cell_type": "code",
   "execution_count": 6,
   "metadata": {},
   "outputs": [],
   "source": [
    "def random_nas(size):\n",
    "    fake = Faker('en_CA')\n",
    "    nasList = []\n",
    "    for _ in range(size):\n",
    "        nasList.append(fake.ssn())\n",
    "    \n",
    "    return np.random.choice(nasList, size=size)"
   ]
  },
  {
   "cell_type": "code",
   "execution_count": 7,
   "id": "chemical-dallas",
   "metadata": {},
   "outputs": [
    {
     "output_type": "execute_result",
     "data": {
      "text/plain": [
       "          First       Last Gender  Birthdate  \\\n",
       "0     Joséphine     Tardif      F 1950-10-20   \n",
       "1       Olivier  Chartrand      F 2005-05-07   \n",
       "2       Jessica     Richer      F 2002-05-07   \n",
       "3        Nicole    Legault      F 1998-02-24   \n",
       "4      Virginie   Thibault      M 1996-07-10   \n",
       "..          ...        ...    ...        ...   \n",
       "995      Denise      Blais      M 1969-11-13   \n",
       "996    Timothée      Duval      F 1967-02-26   \n",
       "997  Emmanuelle    Croteau      M 1972-04-25   \n",
       "998    Frédéric     Moreau      F 1993-11-05   \n",
       "999       Agnès   Lapierre        1960-04-27   \n",
       "\n",
       "                                               Address          NAS  \n",
       "0    535 Richardson Spring Apt. 961, Dakotaview, QC...  347 207 656  \n",
       "1           57978 Perry Lake, Copelandtown, QC G3P 8H1  674 620 745  \n",
       "2      23828 Wallace Canyon, Johnstonburgh, QC G2N 9H2  665 074 258  \n",
       "3    091 Stephanie Motorway Suite 079, Johnton, QC ...  331 147 801  \n",
       "4    22483 Bailey Hollow Suite 832, Williamsmouth, ...  273 802 645  \n",
       "..                                                 ...          ...  \n",
       "995  085 Brandi Grove, Lake Alexandrahaven, QC G8E 8E8  710 582 537  \n",
       "996              439 Ali Fields, New Daniel, QC G7B3T9  173 823 048  \n",
       "997  29612 James Flats Suite 393, Lake James, QC G5...  480 731 835  \n",
       "998  856 Wilkerson Inlet Apt. 099, East Monica, QC ...  856 250 287  \n",
       "999          1916 Grant Vista, Port Michael, QC J8S2M1  083 741 835  \n",
       "\n",
       "[1000 rows x 6 columns]"
      ],
      "text/html": "<div>\n<style scoped>\n    .dataframe tbody tr th:only-of-type {\n        vertical-align: middle;\n    }\n\n    .dataframe tbody tr th {\n        vertical-align: top;\n    }\n\n    .dataframe thead th {\n        text-align: right;\n    }\n</style>\n<table border=\"1\" class=\"dataframe\">\n  <thead>\n    <tr style=\"text-align: right;\">\n      <th></th>\n      <th>First</th>\n      <th>Last</th>\n      <th>Gender</th>\n      <th>Birthdate</th>\n      <th>Address</th>\n      <th>NAS</th>\n    </tr>\n  </thead>\n  <tbody>\n    <tr>\n      <th>0</th>\n      <td>Joséphine</td>\n      <td>Tardif</td>\n      <td>F</td>\n      <td>1950-10-20</td>\n      <td>535 Richardson Spring Apt. 961, Dakotaview, QC...</td>\n      <td>347 207 656</td>\n    </tr>\n    <tr>\n      <th>1</th>\n      <td>Olivier</td>\n      <td>Chartrand</td>\n      <td>F</td>\n      <td>2005-05-07</td>\n      <td>57978 Perry Lake, Copelandtown, QC G3P 8H1</td>\n      <td>674 620 745</td>\n    </tr>\n    <tr>\n      <th>2</th>\n      <td>Jessica</td>\n      <td>Richer</td>\n      <td>F</td>\n      <td>2002-05-07</td>\n      <td>23828 Wallace Canyon, Johnstonburgh, QC G2N 9H2</td>\n      <td>665 074 258</td>\n    </tr>\n    <tr>\n      <th>3</th>\n      <td>Nicole</td>\n      <td>Legault</td>\n      <td>F</td>\n      <td>1998-02-24</td>\n      <td>091 Stephanie Motorway Suite 079, Johnton, QC ...</td>\n      <td>331 147 801</td>\n    </tr>\n    <tr>\n      <th>4</th>\n      <td>Virginie</td>\n      <td>Thibault</td>\n      <td>M</td>\n      <td>1996-07-10</td>\n      <td>22483 Bailey Hollow Suite 832, Williamsmouth, ...</td>\n      <td>273 802 645</td>\n    </tr>\n    <tr>\n      <th>...</th>\n      <td>...</td>\n      <td>...</td>\n      <td>...</td>\n      <td>...</td>\n      <td>...</td>\n      <td>...</td>\n    </tr>\n    <tr>\n      <th>995</th>\n      <td>Denise</td>\n      <td>Blais</td>\n      <td>M</td>\n      <td>1969-11-13</td>\n      <td>085 Brandi Grove, Lake Alexandrahaven, QC G8E 8E8</td>\n      <td>710 582 537</td>\n    </tr>\n    <tr>\n      <th>996</th>\n      <td>Timothée</td>\n      <td>Duval</td>\n      <td>F</td>\n      <td>1967-02-26</td>\n      <td>439 Ali Fields, New Daniel, QC G7B3T9</td>\n      <td>173 823 048</td>\n    </tr>\n    <tr>\n      <th>997</th>\n      <td>Emmanuelle</td>\n      <td>Croteau</td>\n      <td>M</td>\n      <td>1972-04-25</td>\n      <td>29612 James Flats Suite 393, Lake James, QC G5...</td>\n      <td>480 731 835</td>\n    </tr>\n    <tr>\n      <th>998</th>\n      <td>Frédéric</td>\n      <td>Moreau</td>\n      <td>F</td>\n      <td>1993-11-05</td>\n      <td>856 Wilkerson Inlet Apt. 099, East Monica, QC ...</td>\n      <td>856 250 287</td>\n    </tr>\n    <tr>\n      <th>999</th>\n      <td>Agnès</td>\n      <td>Lapierre</td>\n      <td></td>\n      <td>1960-04-27</td>\n      <td>1916 Grant Vista, Port Michael, QC J8S2M1</td>\n      <td>083 741 835</td>\n    </tr>\n  </tbody>\n</table>\n<p>1000 rows × 6 columns</p>\n</div>"
     },
     "metadata": {},
     "execution_count": 7
    }
   ],
   "source": [
    "# How many records do we want to create in our CSV? In this example\n",
    "# we are generating 100, but you could also find relatively fast results generating \n",
    "# much larger datasets\n",
    "size = 1000 \n",
    "df = pd.DataFrame(columns=['First', 'Last', 'Gender', 'Birthdate','Address', 'NAS'])\n",
    "\n",
    "df['First'] = random_names('first_names', size)\n",
    "df['Last'] = random_names('last_names', size) \n",
    "df['Gender'] = random_genders(size) \n",
    "df['Birthdate'] = random_dates(start=pd.to_datetime('1940-01-01'), end=pd.to_datetime('2008-01-01'), size=size)\n",
    "df['Address'] = random_address(size)\n",
    "df['NAS'] = random_nas(size)\n",
    "df.to_csv('fake-file.csv')\n",
    "df"
   ]
  },
  {
   "cell_type": "code",
   "execution_count": null,
   "id": "scientific-jacob",
   "metadata": {},
   "outputs": [],
   "source": []
  }
 ],
 "metadata": {
  "kernelspec": {
   "display_name": "Python 3",
   "language": "python",
   "name": "python3"
  },
  "language_info": {
   "codemirror_mode": {
    "name": "ipython",
    "version": 3
   },
   "file_extension": ".py",
   "mimetype": "text/x-python",
   "name": "python",
   "nbconvert_exporter": "python",
   "pygments_lexer": "ipython3",
   "version": "3.8.8-final"
  }
 },
 "nbformat": 4,
 "nbformat_minor": 5
}