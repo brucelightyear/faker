{
 "cells": [
  {
   "cell_type": "code",
   "execution_count": 1,
   "id": "cleared-mistake",
   "metadata": {},
   "outputs": [],
   "source": [
    "import numpy as np\n",
    "import pandas as pd\n",
    "from faker import Faker\n",
    "fake = Faker(['fr-CA'])\n",
    "fake.locales\n",
    "from faker.providers.person.fr_CA import Provider"
   ]
  },
  {
   "cell_type": "code",
   "execution_count": 2,
   "id": "eastern-karma",
   "metadata": {},
   "outputs": [],
   "source": [
    "def random_names(name_type, size):\n",
    "    \"\"\"\n",
    "    Generate n-length ndarray of person names.\n",
    "    name_type: a string, either first_names or last_names\n",
    "    \"\"\"\n",
    "    names = getattr(Provider, name_type)\n",
    "    return np.random.choice(names, size=size)"
   ]
  },
  {
   "cell_type": "code",
   "execution_count": 3,
   "id": "adequate-zambia",
   "metadata": {},
   "outputs": [],
   "source": [
    "def random_genders(size, p=None):\n",
    "    \"\"\"Generate n-length ndarray of genders.\"\"\"\n",
    "    if not p:\n",
    "        # default probabilities\n",
    "        p = (0.49, 0.49, 0.01, 0.01)\n",
    "    gender = (\"M\", \"F\", \"O\", \"\")\n",
    "    return np.random.choice(gender, size=size, p=p)"
   ]
  },
  {
   "cell_type": "code",
   "execution_count": 4,
   "id": "activated-termination",
   "metadata": {},
   "outputs": [],
   "source": [
    "def random_dates(start, end, size):\n",
    "    \"\"\"\n",
    "    Generate random dates within range between start and end.    \n",
    "    Adapted from: https://stackoverflow.com/a/50668285\n",
    "    \"\"\"\n",
    "    # Unix timestamp is in nanoseconds by default, so divide it by\n",
    "    # 24*60*60*10**9 to convert to days.\n",
    "    divide_by = 24 * 60 * 60 * 10**9\n",
    "    start_u = start.value // divide_by\n",
    "    end_u = end.value // divide_by\n",
    "    return pd.to_datetime(np.random.randint(start_u, end_u, size), unit=\"D\")"
   ]
  },
  {
   "cell_type": "code",
   "execution_count": 5,
   "id": "criminal-earthquake",
   "metadata": {},
   "outputs": [],
   "source": [
    "def random_address(size):\n",
    "    \"\"\"\n",
    "    Generate n-length ndarray of address.\n",
    "    \"\"\"\n",
    "    fake = Faker('en_CA')\n",
    "    address = fake.address()\n",
    "    return np.random.choice(address, size=size)"
   ]
  },
  {
   "cell_type": "code",
   "execution_count": 6,
   "id": "chemical-dallas",
   "metadata": {},
   "outputs": [
    {
     "ename": "ValueError",
     "evalue": "a must be 1-dimensional or an integer",
     "output_type": "error",
     "traceback": [
      "\u001b[1;31m---------------------------------------------------------------------------\u001b[0m",
      "\u001b[1;31mTypeError\u001b[0m                                 Traceback (most recent call last)",
      "\u001b[1;32mmtrand.pyx\u001b[0m in \u001b[0;36mnumpy.random.mtrand.RandomState.choice\u001b[1;34m()\u001b[0m\n",
      "\u001b[1;31mTypeError\u001b[0m: 'str' object cannot be interpreted as an integer",
      "\nDuring handling of the above exception, another exception occurred:\n",
      "\u001b[1;31mValueError\u001b[0m                                Traceback (most recent call last)",
      "\u001b[1;32m<ipython-input-6-d118c7673a63>\u001b[0m in \u001b[0;36m<module>\u001b[1;34m\u001b[0m\n\u001b[0;32m      8\u001b[0m \u001b[0mdf\u001b[0m\u001b[1;33m[\u001b[0m\u001b[1;34m'Gender'\u001b[0m\u001b[1;33m]\u001b[0m \u001b[1;33m=\u001b[0m \u001b[0mrandom_genders\u001b[0m\u001b[1;33m(\u001b[0m\u001b[0msize\u001b[0m\u001b[1;33m)\u001b[0m\u001b[1;33m\u001b[0m\u001b[1;33m\u001b[0m\u001b[0m\n\u001b[0;32m      9\u001b[0m \u001b[0mdf\u001b[0m\u001b[1;33m[\u001b[0m\u001b[1;34m'Birthdate'\u001b[0m\u001b[1;33m]\u001b[0m \u001b[1;33m=\u001b[0m \u001b[0mrandom_dates\u001b[0m\u001b[1;33m(\u001b[0m\u001b[0mstart\u001b[0m\u001b[1;33m=\u001b[0m\u001b[0mpd\u001b[0m\u001b[1;33m.\u001b[0m\u001b[0mto_datetime\u001b[0m\u001b[1;33m(\u001b[0m\u001b[1;34m'1940-01-01'\u001b[0m\u001b[1;33m)\u001b[0m\u001b[1;33m,\u001b[0m \u001b[0mend\u001b[0m\u001b[1;33m=\u001b[0m\u001b[0mpd\u001b[0m\u001b[1;33m.\u001b[0m\u001b[0mto_datetime\u001b[0m\u001b[1;33m(\u001b[0m\u001b[1;34m'2008-01-01'\u001b[0m\u001b[1;33m)\u001b[0m\u001b[1;33m,\u001b[0m \u001b[0msize\u001b[0m\u001b[1;33m=\u001b[0m\u001b[0msize\u001b[0m\u001b[1;33m)\u001b[0m\u001b[1;33m\u001b[0m\u001b[1;33m\u001b[0m\u001b[0m\n\u001b[1;32m---> 10\u001b[1;33m \u001b[0mdf\u001b[0m\u001b[1;33m[\u001b[0m\u001b[1;34m'Address'\u001b[0m\u001b[1;33m]\u001b[0m \u001b[1;33m=\u001b[0m \u001b[0mrandom_address\u001b[0m\u001b[1;33m(\u001b[0m\u001b[0msize\u001b[0m\u001b[1;33m)\u001b[0m\u001b[1;33m\u001b[0m\u001b[1;33m\u001b[0m\u001b[0m\n\u001b[0m\u001b[0;32m     11\u001b[0m \u001b[0mdf\u001b[0m\u001b[1;33m.\u001b[0m\u001b[0mto_csv\u001b[0m\u001b[1;33m(\u001b[0m\u001b[1;34m'fake-file.csv'\u001b[0m\u001b[1;33m)\u001b[0m\u001b[1;33m\u001b[0m\u001b[1;33m\u001b[0m\u001b[0m\n",
      "\u001b[1;32m<ipython-input-5-68ac6826ac5a>\u001b[0m in \u001b[0;36mrandom_address\u001b[1;34m(size)\u001b[0m\n\u001b[0;32m      5\u001b[0m     \u001b[0mfake\u001b[0m \u001b[1;33m=\u001b[0m \u001b[0mFaker\u001b[0m\u001b[1;33m(\u001b[0m\u001b[1;34m'en_CA'\u001b[0m\u001b[1;33m)\u001b[0m\u001b[1;33m\u001b[0m\u001b[1;33m\u001b[0m\u001b[0m\n\u001b[0;32m      6\u001b[0m     \u001b[0maddress\u001b[0m \u001b[1;33m=\u001b[0m \u001b[0mfake\u001b[0m\u001b[1;33m.\u001b[0m\u001b[0maddress\u001b[0m\u001b[1;33m(\u001b[0m\u001b[1;33m)\u001b[0m\u001b[1;33m\u001b[0m\u001b[1;33m\u001b[0m\u001b[0m\n\u001b[1;32m----> 7\u001b[1;33m     \u001b[1;32mreturn\u001b[0m \u001b[0mnp\u001b[0m\u001b[1;33m.\u001b[0m\u001b[0mrandom\u001b[0m\u001b[1;33m.\u001b[0m\u001b[0mchoice\u001b[0m\u001b[1;33m(\u001b[0m\u001b[0maddress\u001b[0m\u001b[1;33m,\u001b[0m \u001b[0msize\u001b[0m\u001b[1;33m=\u001b[0m\u001b[0msize\u001b[0m\u001b[1;33m)\u001b[0m\u001b[1;33m\u001b[0m\u001b[1;33m\u001b[0m\u001b[0m\n\u001b[0m",
      "\u001b[1;32mmtrand.pyx\u001b[0m in \u001b[0;36mnumpy.random.mtrand.RandomState.choice\u001b[1;34m()\u001b[0m\n",
      "\u001b[1;31mValueError\u001b[0m: a must be 1-dimensional or an integer"
     ]
    }
   ],
   "source": [
    "# How many records do we want to create in our CSV? In this example\n",
    "# we are generating 100, but you could also find relatively fast results generating \n",
    "# much larger datasets\n",
    "size = 1000 \n",
    "df = pd.DataFrame(columns=['First', 'Last', 'Gender', 'Birthdate','Address'])\n",
    "df['First'] = random_names('first_names', size)\n",
    "df['Last'] = random_names('last_names', size) \n",
    "df['Gender'] = random_genders(size)\n",
    "df['Birthdate'] = random_dates(start=pd.to_datetime('1940-01-01'), end=pd.to_datetime('2008-01-01'), size=size)\n",
    "df['Address'] = random_address(size) \n",
    "df.to_csv('fake-file.csv')"
   ]
  },
  {
   "cell_type": "code",
   "execution_count": null,
   "id": "scientific-jacob",
   "metadata": {},
   "outputs": [],
   "source": []
  }
 ],
 "metadata": {
  "kernelspec": {
   "display_name": "Python 3",
   "language": "python",
   "name": "python3"
  },
  "language_info": {
   "codemirror_mode": {
    "name": "ipython",
    "version": 3
   },
   "file_extension": ".py",
   "mimetype": "text/x-python",
   "name": "python",
   "nbconvert_exporter": "python",
   "pygments_lexer": "ipython3",
   "version": "3.8.8-final"
  }
 },
 "nbformat": 4,
 "nbformat_minor": 5
}